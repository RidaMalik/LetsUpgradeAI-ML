{
  "cells": [
    {
      "metadata": {
        "collapsed": true
      },
      "cell_type": "markdown",
      "source": "Question 1: Operations on complex numbers\n\nAddition,Subtraction,Divisin and multiplication can be performed on complex numbers.\nModulo cannot be performed on complex numbers"
    },
    {
      "metadata": {
        "trusted": true
      },
      "cell_type": "code",
      "source": "a=2+3j\nb=4+2j\nsum=a+b\nprint(\"addition:\",sum)\nsub=a-b\nprint(\"subtraction:\",sub)\nmul=a*b\nprint(\"multiplication:\",mul)\ndiv=a/b\nprint(\"division:\",div)\nmod=a%b\nprint(\"modulo\",mod)",
      "execution_count": 2,
      "outputs": [
        {
          "output_type": "stream",
          "text": "addition: (6+5j)\nsubtraction: (-2+1j)\nmultiplication: (2+16j)\ndivision: (0.7+0.4j)\n",
          "name": "stdout"
        },
        {
          "output_type": "error",
          "ename": "TypeError",
          "evalue": "can't mod complex numbers.",
          "traceback": [
            "\u001b[0;31m---------------------------------------------------------------------------\u001b[0m",
            "\u001b[0;31mTypeError\u001b[0m                                 Traceback (most recent call last)",
            "\u001b[0;32m<ipython-input-2-22e0db0f319b>\u001b[0m in \u001b[0;36m<module>\u001b[0;34m\u001b[0m\n\u001b[1;32m      9\u001b[0m \u001b[0mdiv\u001b[0m\u001b[0;34m=\u001b[0m\u001b[0ma\u001b[0m\u001b[0;34m/\u001b[0m\u001b[0mb\u001b[0m\u001b[0;34m\u001b[0m\u001b[0m\n\u001b[1;32m     10\u001b[0m \u001b[0mprint\u001b[0m\u001b[0;34m(\u001b[0m\u001b[0;34m\"division:\"\u001b[0m\u001b[0;34m,\u001b[0m\u001b[0mdiv\u001b[0m\u001b[0;34m)\u001b[0m\u001b[0;34m\u001b[0m\u001b[0m\n\u001b[0;32m---> 11\u001b[0;31m \u001b[0mmod\u001b[0m\u001b[0;34m=\u001b[0m\u001b[0ma\u001b[0m\u001b[0;34m%\u001b[0m\u001b[0mb\u001b[0m\u001b[0;34m\u001b[0m\u001b[0m\n\u001b[0m\u001b[1;32m     12\u001b[0m \u001b[0mprint\u001b[0m\u001b[0;34m(\u001b[0m\u001b[0;34m\"modulo\"\u001b[0m\u001b[0;34m,\u001b[0m\u001b[0mmod\u001b[0m\u001b[0;34m)\u001b[0m\u001b[0;34m\u001b[0m\u001b[0m\n",
            "\u001b[0;31mTypeError\u001b[0m: can't mod complex numbers."
          ]
        }
      ]
    },
    {
      "metadata": {},
      "cell_type": "markdown",
      "source": "Question 2:Range function\n    \nThe function returns numbers which starts with the value 0 and stops at the number which is one less than the number specified. If n is the number given, then it starts at 0 and goes on till (n-1). The total number of values returned are n however, since 0 is also included. But we can also give a starting value at which it begins and a value at which it stops."
    },
    {
      "metadata": {
        "trusted": true
      },
      "cell_type": "code",
      "source": "for i in range(10):\n    print(i)",
      "execution_count": 6,
      "outputs": [
        {
          "output_type": "stream",
          "text": "0\n1\n2\n3\n4\n5\n6\n7\n8\n9\n",
          "name": "stdout"
        }
      ]
    },
    {
      "metadata": {
        "trusted": true
      },
      "cell_type": "code",
      "source": "for x in range(2,6):\n        print(x)",
      "execution_count": 7,
      "outputs": [
        {
          "output_type": "stream",
          "text": "2\n3\n4\n5\n",
          "name": "stdout"
        }
      ]
    },
    {
      "metadata": {},
      "cell_type": "markdown",
      "source": "Program to print number divisible by 2 till 20:"
    },
    {
      "metadata": {
        "trusted": true
      },
      "cell_type": "code",
      "source": "for i in range(21):\n    if(i%2==0):\n        print(i)",
      "execution_count": 8,
      "outputs": [
        {
          "output_type": "stream",
          "text": "0\n2\n4\n6\n8\n10\n12\n14\n16\n18\n20\n",
          "name": "stdout"
        }
      ]
    },
    {
      "metadata": {},
      "cell_type": "markdown",
      "source": "Question 3:"
    },
    {
      "metadata": {
        "trusted": true
      },
      "cell_type": "code",
      "source": "a=int(input(\"Enter the first number\"))\nb=int(input(\"Enter the second number to be subtracted\"))\nn=a-b\nif(n>25):\n    print(\"Product is:\",a*b)\nelse:\n    print(\"Division is:\",a/b)",
      "execution_count": 10,
      "outputs": [
        {
          "output_type": "stream",
          "name": "stdout",
          "text": "Enter the first number50\nEnter the second number to be subtracted10\nProduct is: 500\n"
        }
      ]
    },
    {
      "metadata": {},
      "cell_type": "markdown",
      "source": "Question 4:"
    },
    {
      "metadata": {
        "trusted": true
      },
      "cell_type": "code",
      "source": "l=[2,3,4,5,6,7,8,9,10,12]\nprint(\"List is\",l)\nfor i in l:\n    if(i%2==0):\n        n=(i*i)-2\n        print(\"for the number:\",i,\"the square of the number minus 2:\",n)",
      "execution_count": 17,
      "outputs": [
        {
          "output_type": "stream",
          "text": "List is [2, 3, 4, 5, 6, 7, 8, 9, 10, 12]\nfor the number: 2 the square of the number minus 2: 2\nfor the number: 4 the square of the number minus 2: 14\nfor the number: 6 the square of the number minus 2: 34\nfor the number: 8 the square of the number minus 2: 62\nfor the number: 10 the square of the number minus 2: 98\nfor the number: 12 the square of the number minus 2: 142\n",
          "name": "stdout"
        }
      ]
    },
    {
      "metadata": {},
      "cell_type": "markdown",
      "source": "Question 5:\n"
    },
    {
      "metadata": {
        "trusted": true
      },
      "cell_type": "code",
      "source": "l2=[1,3,7,8,9,10,25,40,55,60]\nprint(\"The list is:\",l2)\nfor i in l2:\n    if(i/2>7):\n        print(\"Element when divided by two is greater than 7:\",i)",
      "execution_count": 16,
      "outputs": [
        {
          "output_type": "stream",
          "text": "The list is: [1, 3, 7, 8, 9, 10, 25, 40, 55, 60]\nElement when divided by two is greater than 7: 25\nElement when divided by two is greater than 7: 40\nElement when divided by two is greater than 7: 55\nElement when divided by two is greater than 7: 60\n",
          "name": "stdout"
        }
      ]
    },
    {
      "metadata": {
        "trusted": true
      },
      "cell_type": "code",
      "source": "",
      "execution_count": null,
      "outputs": []
    }
  ],
  "metadata": {
    "kernelspec": {
      "name": "python36",
      "display_name": "Python 3.6",
      "language": "python"
    },
    "language_info": {
      "mimetype": "text/x-python",
      "nbconvert_exporter": "python",
      "name": "python",
      "pygments_lexer": "ipython3",
      "version": "3.6.6",
      "file_extension": ".py",
      "codemirror_mode": {
        "version": 3,
        "name": "ipython"
      }
    }
  },
  "nbformat": 4,
  "nbformat_minor": 2
}