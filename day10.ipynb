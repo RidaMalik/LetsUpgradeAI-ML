{
  "cells": [
    {
      "metadata": {
        "collapsed": true
      },
      "cell_type": "markdown",
      "source": "Hypothesis"
    },
    {
      "metadata": {},
      "cell_type": "markdown",
      "source": "1.Employees with less than 3 years of experience have high attrition rate."
    },
    {
      "metadata": {},
      "cell_type": "markdown",
      "source": "2.Employees with less than 3 times training since last year have high attrition rate"
    },
    {
      "metadata": {},
      "cell_type": "markdown",
      "source": "3.Employees who have worked for more than 4 companies have high attrition rate"
    },
    {
      "metadata": {},
      "cell_type": "markdown",
      "source": "4.Employees who have more distance from home have high attrition rate"
    },
    {
      "metadata": {},
      "cell_type": "markdown",
      "source": "5.Employee who travel rarely have more chances for attrition"
    },
    {
      "metadata": {},
      "cell_type": "markdown",
      "source": "6.Employees working as HR have higher attrition rate"
    },
    {
      "metadata": {},
      "cell_type": "markdown",
      "source": "7.Employee who have 13% or low PercentSalaryHike have more chances for attrition"
    },
    {
      "metadata": {},
      "cell_type": "markdown",
      "source": "8.Employee with low education have low PercentSalaryHike and have more chances for attrition"
    },
    {
      "metadata": {},
      "cell_type": "markdown",
      "source": "9.Employee with more years since last promotion have high attrition rate"
    },
    {
      "metadata": {},
      "cell_type": "markdown",
      "source": "10.Employees with other than Life Sciences, Medical, Marketing, Technical Degree and Human Resources have higher attrition rate"
    }
  ],
  "metadata": {
    "kernelspec": {
      "name": "python36",
      "display_name": "Python 3.6",
      "language": "python"
    },
    "language_info": {
      "mimetype": "text/x-python",
      "nbconvert_exporter": "python",
      "name": "python",
      "pygments_lexer": "ipython3",
      "version": "3.6.6",
      "file_extension": ".py",
      "codemirror_mode": {
        "version": 3,
        "name": "ipython"
      }
    }
  },
  "nbformat": 4,
  "nbformat_minor": 2
}