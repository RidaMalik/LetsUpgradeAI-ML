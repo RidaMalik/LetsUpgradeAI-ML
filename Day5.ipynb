{
  "cells": [
    {
      "metadata": {
        "collapsed": true
      },
      "cell_type": "markdown",
      "source": "Question 1: "
    },
    {
      "metadata": {
        "trusted": true
      },
      "cell_type": "code",
      "source": "r=1\nfor p in range(1,100):\n    if r>20:\n        break\n    if p>1:\n        for i in range(2,p):\n            if(p%i==0):\n                break\n            else:\n                print(p)\n                r=r+1\n                break",
      "execution_count": 11,
      "outputs": [
        {
          "output_type": "stream",
          "text": "3\n5\n7\n9\n11\n13\n15\n17\n19\n21\n23\n25\n27\n29\n31\n33\n35\n37\n39\n41\n",
          "name": "stdout"
        }
      ]
    },
    {
      "metadata": {},
      "cell_type": "markdown",
      "source": "Question 2:"
    },
    {
      "metadata": {
        "trusted": true
      },
      "cell_type": "code",
      "source": "s=\"hello and welcome to PythonWorld\"\nsub=\"and\"\nf1=s.count(sub)\nprint(f1)\nf2=s.capitalize()\nprint(f2)\nf3=s.find(\"and\")\nprint(f3)\nf4=s.isdigit()\nprint(f4)\nf5=sub.islower()\nprint(f5)\nf6=s.upper()\nprint(f6)\nf7=s.lower()\nprint(f7)\nf8=s.split()\nprint(f8)\nf9=s.replace(\"PythonWorld\",\"disney\")\nprint(f9)\nf10=s.swapcase()\nprint(f10)\nf11=s.join(sub)\nprint(f11)\nf12=s.isspace()\nprint(f12)\nf13=s.index(\"PythonWorld\")\nprint(f13)\nf14=s.strip(\"hello\")\nprint(f14)\nf15=s.isdecimal()\nprint(f15)\n",
      "execution_count": 44,
      "outputs": [
        {
          "output_type": "stream",
          "text": "1\nHello and welcome to pythonworld\n6\nFalse\nTrue\nHELLO AND WELCOME TO PYTHONWORLD\nhello and welcome to pythonworld\n['hello', 'and', 'welcome', 'to', 'PythonWorld']\nhello and welcome to disney\nHELLO AND WELCOME TO pYTHONwORLD\nahello and welcome to PythonWorldnhello and welcome to PythonWorldd\nFalse\n21\n and welcome to PythonWorld\nFalse\n",
          "name": "stdout"
        }
      ]
    },
    {
      "metadata": {},
      "cell_type": "markdown",
      "source": "Question 3:"
    },
    {
      "metadata": {
        "trusted": true
      },
      "cell_type": "code",
      "source": "s1=input(\"Enter a string1\")\ns2=input(\"Enter string2\")\nprint(s1)\nprint(s2)\nif s1==s1[::-1]:\n    print(\"String\",s1,\"is palindrome\")\nif s2==s2[::-1]:\n    print(\"String\",s2,\"is palindrome\")\nif sorted(s1)==sorted(s2):\n    print(\"Both are anagrams\")\nelse:\n    print(\"strings not anagrams\")",
      "execution_count": 49,
      "outputs": [
        {
          "output_type": "stream",
          "name": "stdout",
          "text": "Enter a string1hannah\nEnter string2ok\nhannah\nok\nString hannah is palindrome\nstrings not anagrams\n"
        }
      ]
    },
    {
      "metadata": {},
      "cell_type": "markdown",
      "source": "Question 4:\n    "
    },
    {
      "metadata": {
        "trusted": true
      },
      "cell_type": "code",
      "source": "s=\"I love Python\"\nst=s.lower()\nprint(st.replace(\" \",\"\"))",
      "execution_count": 59,
      "outputs": [
        {
          "output_type": "stream",
          "text": "ilovepython\n",
          "name": "stdout"
        }
      ]
    },
    {
      "metadata": {
        "trusted": true
      },
      "cell_type": "code",
      "source": "",
      "execution_count": null,
      "outputs": []
    }
  ],
  "metadata": {
    "kernelspec": {
      "name": "python36",
      "display_name": "Python 3.6",
      "language": "python"
    },
    "language_info": {
      "mimetype": "text/x-python",
      "nbconvert_exporter": "python",
      "name": "python",
      "pygments_lexer": "ipython3",
      "version": "3.6.6",
      "file_extension": ".py",
      "codemirror_mode": {
        "version": 3,
        "name": "ipython"
      }
    }
  },
  "nbformat": 4,
  "nbformat_minor": 2
}