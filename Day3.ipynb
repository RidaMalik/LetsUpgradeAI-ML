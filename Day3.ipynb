{
  "cells": [
    {
      "metadata": {
        "collapsed": true
      },
      "cell_type": "markdown",
      "source": "Question 1:Subtract two complex numbers"
    },
    {
      "metadata": {
        "trusted": true
      },
      "cell_type": "code",
      "source": "print(\"Enter the two complex numbers to be subtracted:\")\na=complex(input(\"Enter first complex number\"))\nb=complex(input(\"Enter complex number to be subtracted\"))\nresult=a-b\nprint(result)",
      "execution_count": 6,
      "outputs": [
        {
          "output_type": "stream",
          "text": "Enter the two complex numbers to be subtracted:\nEnter first complex number3+4j\nEnter complex number to be subtracted3+4j\n0j\n",
          "name": "stdout"
        }
      ]
    },
    {
      "metadata": {},
      "cell_type": "markdown",
      "source": "Question 3:Swap numbers with temporary variable"
    },
    {
      "metadata": {},
      "cell_type": "markdown",
      "source": "Question 2:Fourth root of number"
    },
    {
      "metadata": {
        "trusted": true
      },
      "cell_type": "code",
      "source": "n=int(input(\"Enter a number to find fourth root\"))\nroot=n**(1/4)\nprint(root)",
      "execution_count": 20,
      "outputs": [
        {
          "output_type": "stream",
          "name": "stdout",
          "text": "Enter a number to find fourth root16\n2.0\n"
        }
      ]
    },
    {
      "metadata": {
        "trusted": true
      },
      "cell_type": "code",
      "source": "a=int(input(\"enter a\"))\nb=int(input(\"enter b\"))\nprint(\"a before swapping:\",a)\nprint(\"b before swapping:\",b)\ntemp=a\na=b\nb=temp\nprint(\"a after swapping:\",a)\nprint(\"b after swapping:\",b)",
      "execution_count": 7,
      "outputs": [
        {
          "output_type": "stream",
          "name": "stdout",
          "text": "enter a2\nenter b3\na before swapping: 2\nb before swapping: 3\na after swapping: 3\nb after swapping: 2\n"
        }
      ]
    },
    {
      "metadata": {},
      "cell_type": "markdown",
      "source": "Question 4:Swapping without temporary variable"
    },
    {
      "metadata": {
        "trusted": true
      },
      "cell_type": "code",
      "source": "a=int(input(\"enter a\"))\nb=int(input(\"enter b\"))\nprint(\"a before swapping:\",a)\nprint(\"b before swapping:\",b)\na,b=b,a\nprint(\"a after swapping:\",a)\nprint(\"b after swapping:\",b)",
      "execution_count": 8,
      "outputs": [
        {
          "output_type": "stream",
          "name": "stdout",
          "text": "enter a3\nenter b4\na before swapping: 3\nb before swapping: 4\na after swapping: 4\nb after swapping: 3\n"
        }
      ]
    },
    {
      "metadata": {},
      "cell_type": "markdown",
      "source": "Question 5:Farenheit to kelvin and celcius"
    },
    {
      "metadata": {
        "trusted": true
      },
      "cell_type": "code",
      "source": "f=int(input(\"Enter temperature in farenheit:\"))\nk=273.5+((f-32.0)*(5.0/9.0))\nc=(f-32)/1.8\nprint(\"Kelvin:\",k)\nprint(\"Celcius:\",c)",
      "execution_count": 11,
      "outputs": [
        {
          "output_type": "stream",
          "name": "stdout",
          "text": "Enter temperature in farenheit:100\nKelvin: 311.27777777777777\nCelcius: 37.77777777777778\n"
        }
      ]
    },
    {
      "metadata": {},
      "cell_type": "markdown",
      "source": "Question 6: Demonstrate datatypes in python"
    },
    {
      "metadata": {
        "trusted": true
      },
      "cell_type": "code",
      "source": "a=\"Hello\"\nb=7\nc=0.2\nd=3+2j\ne=[1,2,3]\nprint(type(a))\nprint(type(b))\nprint(type(c))\nprint(type(d))\nprint(type(e))",
      "execution_count": 16,
      "outputs": [
        {
          "output_type": "stream",
          "text": "<class 'str'>\n<class 'int'>\n<class 'float'>\n<class 'complex'>\n<class 'list'>\n",
          "name": "stdout"
        }
      ]
    },
    {
      "metadata": {},
      "cell_type": "markdown",
      "source": "Question 7: Steps mentioned \n1.Sign in to github using gmail account\n2.Create new repository\n3.Name it LetsUpgrade AI/ML\n4.Keep it public\n5.Add description as assignments if wish to\n6.Create folder for the day of assignment\n7.Upload the notebook and commit changes"
    },
    {
      "metadata": {
        "trusted": true
      },
      "cell_type": "code",
      "source": "",
      "execution_count": null,
      "outputs": []
    }
  ],
  "metadata": {
    "kernelspec": {
      "name": "python36",
      "display_name": "Python 3.6",
      "language": "python"
    },
    "language_info": {
      "mimetype": "text/x-python",
      "nbconvert_exporter": "python",
      "name": "python",
      "pygments_lexer": "ipython3",
      "version": "3.6.6",
      "file_extension": ".py",
      "codemirror_mode": {
        "version": 3,
        "name": "ipython"
      }
    }
  },
  "nbformat": 4,
  "nbformat_minor": 2
}