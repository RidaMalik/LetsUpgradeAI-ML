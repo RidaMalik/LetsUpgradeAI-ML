{
  "cells": [
    {
      "metadata": {
        "trusted": true
      },
      "cell_type": "code",
      "source": "set1 = {\"ape\", \"bat\", \"cat\",\"dog\"}\nprint(set1)",
      "execution_count": 2,
      "outputs": [
        {
          "output_type": "stream",
          "text": "{'cat', 'bat', 'ape', 'dog'}\n",
          "name": "stdout"
        }
      ]
    },
    {
      "metadata": {
        "trusted": true
      },
      "cell_type": "code",
      "source": "set1 ={\"ape\", \"bat\", \"cat\",\"dog\"}\n\nfor x in set1:\n  print(x)",
      "execution_count": 3,
      "outputs": [
        {
          "output_type": "stream",
          "text": "cat\nbat\nape\ndog\n",
          "name": "stdout"
        }
      ]
    },
    {
      "metadata": {
        "trusted": true
      },
      "cell_type": "code",
      "source": "set1 = {\"ape\", \"bat\", \"cat\",\"dog\"}\n\nprint(\"whale\" in set1)",
      "execution_count": 5,
      "outputs": [
        {
          "output_type": "stream",
          "text": "False\n",
          "name": "stdout"
        }
      ]
    },
    {
      "metadata": {
        "trusted": true
      },
      "cell_type": "code",
      "source": "set1 = {\"ape\", \"bat\", \"cat\",\"dog\"}\nset1.add(\"whale\")\nprint(set1)",
      "execution_count": 6,
      "outputs": [
        {
          "output_type": "stream",
          "text": "{'bat', 'whale', 'cat', 'dog', 'ape'}\n",
          "name": "stdout"
        }
      ]
    },
    {
      "metadata": {
        "trusted": true
      },
      "cell_type": "code",
      "source": "print(len(set1))",
      "execution_count": 7,
      "outputs": [
        {
          "output_type": "stream",
          "text": "5\n",
          "name": "stdout"
        }
      ]
    },
    {
      "metadata": {
        "trusted": true
      },
      "cell_type": "code",
      "source": "set1.remove(\"ape\")\nprint(set1)",
      "execution_count": 9,
      "outputs": [
        {
          "output_type": "stream",
          "text": "{'bat', 'whale', 'cat', 'dog'}\n",
          "name": "stdout"
        }
      ]
    },
    {
      "metadata": {
        "trusted": true
      },
      "cell_type": "code",
      "source": "set1.discard(\"dog\")\nprint(set1)",
      "execution_count": 10,
      "outputs": [
        {
          "output_type": "stream",
          "text": "{'bat', 'whale', 'cat'}\n",
          "name": "stdout"
        }
      ]
    },
    {
      "metadata": {
        "trusted": true
      },
      "cell_type": "code",
      "source": "x = set1.pop()\nprint(x)\nprint(set1)",
      "execution_count": 11,
      "outputs": [
        {
          "output_type": "stream",
          "text": "bat\n{'whale', 'cat'}\n",
          "name": "stdout"
        }
      ]
    },
    {
      "metadata": {
        "trusted": true
      },
      "cell_type": "code",
      "source": "set1.clear()\nprint(set1)",
      "execution_count": 12,
      "outputs": [
        {
          "output_type": "stream",
          "text": "set()\n",
          "name": "stdout"
        }
      ]
    },
    {
      "metadata": {
        "trusted": true
      },
      "cell_type": "code",
      "source": "set1 = {\"a\", \"b\" , \"c\"}\nset2 = {1, 2, 3}\nset3 = set1.union(set2)\nprint(set3)",
      "execution_count": 13,
      "outputs": [
        {
          "output_type": "error",
          "ename": "SyntaxError",
          "evalue": "unexpected EOF while parsing (<ipython-input-13-eace31145f8e>, line 4)",
          "traceback": [
            "\u001b[0;36m  File \u001b[0;32m\"<ipython-input-13-eace31145f8e>\"\u001b[0;36m, line \u001b[0;32m4\u001b[0m\n\u001b[0;31m    print(set3\u001b[0m\n\u001b[0m              ^\u001b[0m\n\u001b[0;31mSyntaxError\u001b[0m\u001b[0;31m:\u001b[0m unexpected EOF while parsing\n"
          ]
        }
      ]
    },
    {
      "metadata": {
        "trusted": true
      },
      "cell_type": "code",
      "source": "",
      "execution_count": null,
      "outputs": []
    }
  ],
  "metadata": {
    "kernelspec": {
      "name": "python36",
      "display_name": "Python 3.6",
      "language": "python"
    },
    "language_info": {
      "mimetype": "text/x-python",
      "nbconvert_exporter": "python",
      "name": "python",
      "pygments_lexer": "ipython3",
      "version": "3.6.6",
      "file_extension": ".py",
      "codemirror_mode": {
        "version": 3,
        "name": "ipython"
      }
    }
  },
  "nbformat": 4,
  "nbformat_minor": 2
}